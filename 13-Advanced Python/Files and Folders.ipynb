{
 "cells": [
  {
   "cell_type": "code",
   "execution_count": 1,
   "metadata": {},
   "outputs": [
    {
     "data": {
      "text/plain": [
       "'C:\\\\Users\\\\Dzmitry_Dashkevich\\\\Documents\\\\Projects\\\\Python\\\\From-Zero-to-Hero-in-Python\\\\14-Advanced Python'"
      ]
     },
     "execution_count": 1,
     "metadata": {},
     "output_type": "execute_result"
    }
   ],
   "source": [
    "pwd"
   ]
  },
  {
   "cell_type": "code",
   "execution_count": 3,
   "metadata": {},
   "outputs": [],
   "source": [
    "f = open('practice.txt','w+')\n",
    "f.write('Test string')\n",
    "f.close()"
   ]
  },
  {
   "cell_type": "code",
   "execution_count": 4,
   "metadata": {},
   "outputs": [],
   "source": [
    "import os"
   ]
  },
  {
   "cell_type": "code",
   "execution_count": 5,
   "metadata": {},
   "outputs": [
    {
     "data": {
      "text/plain": [
       "'C:\\\\Users\\\\Dzmitry_Dashkevich\\\\Documents\\\\Projects\\\\Python\\\\From-Zero-to-Hero-in-Python\\\\14-Advanced Python'"
      ]
     },
     "execution_count": 5,
     "metadata": {},
     "output_type": "execute_result"
    }
   ],
   "source": [
    "os.getcwd()"
   ]
  },
  {
   "cell_type": "code",
   "execution_count": 6,
   "metadata": {},
   "outputs": [
    {
     "data": {
      "text/plain": [
       "['.ipynb_checkpoints',\n",
       " 'Collections.ipynb',\n",
       " 'Files and Folders.ipynb',\n",
       " 'practice.txt']"
      ]
     },
     "execution_count": 6,
     "metadata": {},
     "output_type": "execute_result"
    }
   ],
   "source": [
    "os.listdir()"
   ]
  },
  {
   "cell_type": "code",
   "execution_count": 10,
   "metadata": {},
   "outputs": [
    {
     "data": {
      "text/plain": [
       "['All Users',\n",
       " 'Default',\n",
       " 'Default User',\n",
       " 'desktop.ini',\n",
       " 'Dzmitry_Dashkevich',\n",
       " 'lcsa',\n",
       " 'Public',\n",
       " 'Setup']"
      ]
     },
     "execution_count": 10,
     "metadata": {},
     "output_type": "execute_result"
    }
   ],
   "source": [
    "os.listdir('C:\\\\Users')"
   ]
  },
  {
   "cell_type": "code",
   "execution_count": 11,
   "metadata": {},
   "outputs": [],
   "source": [
    "import shutil"
   ]
  },
  {
   "cell_type": "code",
   "execution_count": 13,
   "metadata": {},
   "outputs": [
    {
     "data": {
      "text/plain": [
       "'C:\\\\Users\\\\Dzmitry_Dashkevich\\\\Documents\\\\Projects\\\\Python\\\\From-Zero-to-Hero-in-Python\\\\practice.txt'"
      ]
     },
     "execution_count": 13,
     "metadata": {},
     "output_type": "execute_result"
    }
   ],
   "source": [
    "# move file to another folder\n",
    "shutil.move('practice.txt', 'C:\\\\Users\\\\Dzmitry_Dashkevich\\\\Documents\\\\Projects\\\\Python\\\\From-Zero-to-Hero-in-Python')"
   ]
  },
  {
   "cell_type": "code",
   "execution_count": 15,
   "metadata": {},
   "outputs": [
    {
     "data": {
      "text/plain": [
       "['.git',\n",
       " '.idea',\n",
       " '.ipynb_checkpoints',\n",
       " '02-Python Setup',\n",
       " '03-Python Object and Data Structure Basics',\n",
       " '04-Comparison Operators',\n",
       " '05-Python Statements',\n",
       " '06-Methods and Functions',\n",
       " '07-Object Oriented Programming',\n",
       " '08-Modules and Packages',\n",
       " '09-Errors and Exceptions Handling',\n",
       " '10-Milestone Project - 2',\n",
       " '11-Python Decorators',\n",
       " '12-Python Generators',\n",
       " '14-Advanced Python',\n",
       " 'practice.txt',\n",
       " 'README.md']"
      ]
     },
     "execution_count": 15,
     "metadata": {},
     "output_type": "execute_result"
    }
   ],
   "source": [
    "os.listdir('C:\\\\Users\\\\Dzmitry_Dashkevich\\\\Documents\\\\Projects\\\\Python\\\\From-Zero-to-Hero-in-Python')"
   ]
  },
  {
   "cell_type": "code",
   "execution_count": null,
   "metadata": {},
   "outputs": [],
   "source": [
    "# Deleting Files\n",
    "os.unlink(path) # delete a file at the path\n",
    "os.rmdir(path) # delete a folder at the path\n",
    "shutil.rmtree(path) # delete all files and folders at the path"
   ]
  },
  {
   "cell_type": "code",
   "execution_count": null,
   "metadata": {},
   "outputs": [],
   "source": [
    "# run at command line: pip install send2trash"
   ]
  },
  {
   "cell_type": "code",
   "execution_count": 16,
   "metadata": {},
   "outputs": [],
   "source": [
    "import send2trash"
   ]
  },
  {
   "cell_type": "code",
   "execution_count": 17,
   "metadata": {},
   "outputs": [
    {
     "data": {
      "text/plain": [
       "['.ipynb_checkpoints', 'Collections.ipynb', 'Files and Folders.ipynb']"
      ]
     },
     "execution_count": 17,
     "metadata": {},
     "output_type": "execute_result"
    }
   ],
   "source": [
    "os.listdir()"
   ]
  },
  {
   "cell_type": "code",
   "execution_count": 18,
   "metadata": {},
   "outputs": [
    {
     "data": {
      "text/plain": [
       "'C:\\\\Users\\\\Dzmitry_Dashkevich\\\\Documents\\\\Projects\\\\Python\\\\From-Zero-to-Hero-in-Python\\\\14-Advanced Python\\\\practice.txt'"
      ]
     },
     "execution_count": 18,
     "metadata": {},
     "output_type": "execute_result"
    }
   ],
   "source": [
    "shutil.move('C:\\\\Users\\\\Dzmitry_Dashkevich\\\\Documents\\\\Projects\\\\Python\\\\From-Zero-to-Hero-in-Python\\\\practice.txt', os.getcwd())"
   ]
  },
  {
   "cell_type": "code",
   "execution_count": 19,
   "metadata": {},
   "outputs": [
    {
     "data": {
      "text/plain": [
       "['.ipynb_checkpoints',\n",
       " 'Collections.ipynb',\n",
       " 'Files and Folders.ipynb',\n",
       " 'practice.txt']"
      ]
     },
     "execution_count": 19,
     "metadata": {},
     "output_type": "execute_result"
    }
   ],
   "source": [
    "os.listdir()"
   ]
  },
  {
   "cell_type": "code",
   "execution_count": 20,
   "metadata": {},
   "outputs": [],
   "source": [
    "send2trash.send2trash('practice.txt')"
   ]
  },
  {
   "cell_type": "code",
   "execution_count": 23,
   "metadata": {},
   "outputs": [
    {
     "data": {
      "text/plain": [
       "['.ipynb_checkpoints',\n",
       " 'Collections.ipynb',\n",
       " 'Example_Top_Level',\n",
       " 'Files and Folders.ipynb']"
      ]
     },
     "execution_count": 23,
     "metadata": {},
     "output_type": "execute_result"
    }
   ],
   "source": [
    "os.listdir()"
   ]
  },
  {
   "cell_type": "code",
   "execution_count": 24,
   "metadata": {},
   "outputs": [
    {
     "data": {
      "text/plain": [
       "'C:\\\\Users\\\\Dzmitry_Dashkevich\\\\Documents\\\\Projects\\\\Python\\\\From-Zero-to-Hero-in-Python\\\\14-Advanced Python\\\\Example_Top_Level'"
      ]
     },
     "execution_count": 24,
     "metadata": {},
     "output_type": "execute_result"
    }
   ],
   "source": []
  },
  {
   "cell_type": "code",
   "execution_count": 27,
   "metadata": {
    "scrolled": true
   },
   "outputs": [
    {
     "name": "stdout",
     "output_type": "stream",
     "text": [
      "Currently looking at C:\\Users\\Dzmitry_Dashkevich\\Documents\\Projects\\Python\\From-Zero-to-Hero-in-Python\\14-Advanced Python\\Example_Top_Level\n",
      "\n",
      "\n",
      "The subfolders are:\n",
      "Subfolder: Mid-Example-One\n",
      "Subfolder: Mid-Example-Two\n",
      "\n",
      "\n",
      "The files are:\n",
      "File: Mid-Example.txt\n",
      "\n",
      "\n",
      "Currently looking at C:\\Users\\Dzmitry_Dashkevich\\Documents\\Projects\\Python\\From-Zero-to-Hero-in-Python\\14-Advanced Python\\Example_Top_Level\\Mid-Example-One\n",
      "\n",
      "\n",
      "The subfolders are:\n",
      "Subfolder: Bottom-Level-One\n",
      "Subfolder: Bottom-Level-Two\n",
      "\n",
      "\n",
      "The files are:\n",
      "File: Mid-Level-Doc.txt\n",
      "\n",
      "\n",
      "Currently looking at C:\\Users\\Dzmitry_Dashkevich\\Documents\\Projects\\Python\\From-Zero-to-Hero-in-Python\\14-Advanced Python\\Example_Top_Level\\Mid-Example-One\\Bottom-Level-One\n",
      "\n",
      "\n",
      "The subfolders are:\n",
      "\n",
      "\n",
      "The files are:\n",
      "File: One_Text.txt\n",
      "\n",
      "\n",
      "Currently looking at C:\\Users\\Dzmitry_Dashkevich\\Documents\\Projects\\Python\\From-Zero-to-Hero-in-Python\\14-Advanced Python\\Example_Top_Level\\Mid-Example-One\\Bottom-Level-Two\n",
      "\n",
      "\n",
      "The subfolders are:\n",
      "\n",
      "\n",
      "The files are:\n",
      "File: Bottom-Text-Two.txt\n",
      "\n",
      "\n",
      "Currently looking at C:\\Users\\Dzmitry_Dashkevich\\Documents\\Projects\\Python\\From-Zero-to-Hero-in-Python\\14-Advanced Python\\Example_Top_Level\\Mid-Example-Two\n",
      "\n",
      "\n",
      "The subfolders are:\n",
      "\n",
      "\n",
      "The files are:\n",
      "\n",
      "\n"
     ]
    }
   ],
   "source": [
    "file_path = os.getcwd()+'\\\\Example_Top_Level'\n",
    "\n",
    "for folder,sub_folders,files in os.walk(file_path):\n",
    "    print(f'Currently looking at {folder}')\n",
    "    print('\\n')\n",
    "    print('The subfolders are:')\n",
    "    for sub_fold in sub_folders:\n",
    "        print(f'Subfolder: {sub_fold}')\n",
    "        \n",
    "    print('\\n')\n",
    "    print('The files are:')\n",
    "    for file in files:\n",
    "        print(f'File: {file}')\n",
    "    print('\\n')"
   ]
  }
 ],
 "metadata": {
  "kernelspec": {
   "display_name": "Python 3",
   "language": "python",
   "name": "python3"
  },
  "language_info": {
   "codemirror_mode": {
    "name": "ipython",
    "version": 3
   },
   "file_extension": ".py",
   "mimetype": "text/x-python",
   "name": "python",
   "nbconvert_exporter": "python",
   "pygments_lexer": "ipython3",
   "version": "3.8.5"
  }
 },
 "nbformat": 4,
 "nbformat_minor": 4
}
